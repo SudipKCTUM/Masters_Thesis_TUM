{
 "cells": [
  {
   "cell_type": "code",
   "execution_count": 1,
   "id": "935b44ae",
   "metadata": {},
   "outputs": [],
   "source": [
    "import numpy as np\n",
    "import matplotlib.pyplot as plt\n",
    "from scipy.optimize import curve_fit"
   ]
  },
  {
   "cell_type": "code",
   "execution_count": 2,
   "id": "417e2abd",
   "metadata": {},
   "outputs": [
    {
     "data": {
      "text/plain": [
       "Text(0, 0.5, 'y')"
      ]
     },
     "execution_count": 2,
     "metadata": {},
     "output_type": "execute_result"
    }
   ],
   "source": [
    "x = np.linspace(0, 1, 100)\n",
    "y = np.sin(2 * np.pi * x) + 0.1 * np.random.randn(100)\n",
    "\n",
    "def sine_function(x, a, b, c):\t\n",
    "    return a * np.sin(b * x) + c\n",
    "\n",
    "initial_guess = [1, 2 * np.pi, 0]\n",
    "from scipy.optimize import curve_fit\n",
    "params, covariance = curve_fit(sine_function, x, y, p0=initial_guess)\n",
    "y_fit = sine_function(x, *params)\n",
    "\n",
    "\n",
    "%matplotlib qt\n",
    "plt.plot(x, y, 'o', label='data')\n",
    "plt.plot(x, y_fit, '-', label='fit: a=%.2f, b=%.2f, c=%.2f' % tuple(params))\n",
    "plt.xlabel('x')\n",
    "plt.ylabel('y')\n"
   ]
  }
 ],
 "metadata": {
  "kernelspec": {
   "display_name": "Python 3",
   "language": "python",
   "name": "python3"
  },
  "language_info": {
   "codemirror_mode": {
    "name": "ipython",
    "version": 3
   },
   "file_extension": ".py",
   "mimetype": "text/x-python",
   "name": "python",
   "nbconvert_exporter": "python",
   "pygments_lexer": "ipython3",
   "version": "3.11.9"
  }
 },
 "nbformat": 4,
 "nbformat_minor": 5
}
